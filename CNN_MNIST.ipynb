{
 "cells": [
  {
   "cell_type": "code",
   "execution_count": 87,
   "id": "67e89bbf",
   "metadata": {},
   "outputs": [],
   "source": [
    "import torch\n",
    "import torchvision\n",
    "from torchvision import transforms\n",
    "from torch.utils.data import DataLoader\n",
    "import torch.nn as nn\n",
    "from sklearn.metrics import f1_score, confusion_matrix, precision_score, recall_score\n",
    "import matplotlib.pyplot as plt"
   ]
  },
  {
   "cell_type": "code",
   "execution_count": 49,
   "id": "98d68afc",
   "metadata": {},
   "outputs": [],
   "source": [
    "# Transformations that are used in the dataset\n",
    "trans = transforms.Compose([\n",
    "    transforms.RandomRotation(10),\n",
    "    transforms.RandomHorizontalFlip(),\n",
    "    transforms.ToTensor(),\n",
    "    transforms.Normalize((0.1307,), (0.3081,))\n",
    "])"
   ]
  },
  {
   "cell_type": "code",
   "execution_count": 50,
   "id": "5bd3344a",
   "metadata": {},
   "outputs": [],
   "source": [
    "# Loading the MNIST dataset\n",
    "train_dataset = torchvision.datasets.MNIST(root='./', train= True, transform=trans, download=True)\n",
    "test_dataset = torchvision.datasets.MNIST(root='./', train =False, transform=trans)\n"
   ]
  },
  {
   "cell_type": "code",
   "execution_count": 51,
   "id": "90ccf803",
   "metadata": {},
   "outputs": [],
   "source": [
    "# We are splitting the training set into a training set and a validation set\n",
    "train_size = int(0.8 * len(train_dataset))\n",
    "val_size = len(train_dataset) - train_size\n",
    "train_dataset, val_dataset = torch.utils.data.random_split(train_dataset, [train_size, val_size])"
   ]
  },
  {
   "cell_type": "code",
   "execution_count": 52,
   "id": "859326e3",
   "metadata": {},
   "outputs": [],
   "source": [
    "# Hyperparameters for the model\n",
    "num_epochs = 5\n",
    "batch_size = 100\n",
    "learning_rate = 0.001"
   ]
  },
  {
   "cell_type": "code",
   "execution_count": 79,
   "id": "e74b53e2",
   "metadata": {},
   "outputs": [],
   "source": [
    "# Creating dataloaders for the respective datasets \n",
    "train_l = DataLoader ( dataset=  train_dataset, batch_size = batch_size, shuffle= True)\n",
    "valid_loader = DataLoader(dataset =val_dataset, batch_size = batch_size,   shuffle =False )\n",
    "test_loader = DataLoader ( dataset = test_dataset, batch_size= batch_size, shuffle = False)"
   ]
  },
  {
   "cell_type": "code",
   "execution_count": 54,
   "id": "1256f8f0",
   "metadata": {},
   "outputs": [],
   "source": [
    "device = torch.device('cuda' if torch.cuda.is_available() else 'cpu')\n"
   ]
  },
  {
   "cell_type": "code",
   "execution_count": 64,
   "id": "6d9a2dde",
   "metadata": {},
   "outputs": [],
   "source": [
    "class CNN(nn.Module):\n",
    "    def __init__(self):\n",
    "        super(CNN, self).__init__()\n",
    "        \n",
    "        self.features = nn.Sequential(\n",
    "            nn.Conv2d(1, 32, kernel_size=5, stride=1, padding=2),\n",
    "            nn.ReLU(),\n",
    "            nn.MaxPool2d(kernel_size=2, stride=2),\n",
    "            nn.Conv2d(32, 64, kernel_size=5, stride=1, padding=2),\n",
    "            nn.ReLU(),\n",
    "            nn.MaxPool2d(kernel_size=2, stride=2)\n",
    "        )\n",
    "        \n",
    "        self.classifier = nn.Sequential(\n",
    "            nn.Dropout(),\n",
    "            nn.Linear(7 * 7 * 64, 1000),\n",
    "            nn.Linear(1000, 10)\n",
    "        )\n",
    "\n",
    "    def forward(self, x):\n",
    "        out = self.features(x)\n",
    "        out = torch.flatten(out, 1)  # Flatten the feature tensor\n",
    "        out = self.classifier(out)\n",
    "        return out\n",
    "\n",
    "model = CNN().to(device)\n"
   ]
  },
  {
   "cell_type": "code",
   "execution_count": 69,
   "id": "8365244f",
   "metadata": {},
   "outputs": [],
   "source": [
    "loss_funcn = nn.CrossEntropyLoss()\n",
    "optimizer = torch.optim.Adam(model.parameters(), lr=learning_rate)"
   ]
  },
  {
   "cell_type": "code",
   "execution_count": 70,
   "id": "bfe1a75e",
   "metadata": {},
   "outputs": [],
   "source": [
    "total_steps = len(train_loader)\n",
    "loss_list = []\n",
    "accuracy_list = []"
   ]
  },
  {
   "cell_type": "code",
   "execution_count": 71,
   "id": "41d68cea",
   "metadata": {},
   "outputs": [
    {
     "name": "stdout",
     "output_type": "stream",
     "text": [
      "Epoch [1/5], Step [100/384], Loss: 0.3527, Accuracy: 89.00%\n",
      "Epoch [1/5], Step [200/384], Loss: 0.2053, Accuracy: 95.00%\n",
      "Epoch [1/5], Step [300/384], Loss: 0.3421, Accuracy: 91.00%\n",
      "Epoch [1/5], Step [400/384], Loss: 0.1521, Accuracy: 94.00%\n",
      "Epoch [2/5], Step [100/384], Loss: 0.1816, Accuracy: 96.00%\n",
      "Epoch [2/5], Step [200/384], Loss: 0.2359, Accuracy: 92.00%\n",
      "Epoch [2/5], Step [300/384], Loss: 0.1966, Accuracy: 90.00%\n",
      "Epoch [2/5], Step [400/384], Loss: 0.1124, Accuracy: 95.00%\n",
      "Epoch [3/5], Step [100/384], Loss: 0.1597, Accuracy: 93.00%\n",
      "Epoch [3/5], Step [200/384], Loss: 0.1478, Accuracy: 96.00%\n",
      "Epoch [3/5], Step [300/384], Loss: 0.2485, Accuracy: 96.00%\n",
      "Epoch [3/5], Step [400/384], Loss: 0.2717, Accuracy: 94.00%\n",
      "Epoch [4/5], Step [100/384], Loss: 0.1584, Accuracy: 95.00%\n",
      "Epoch [4/5], Step [200/384], Loss: 0.1790, Accuracy: 98.00%\n",
      "Epoch [4/5], Step [300/384], Loss: 0.1660, Accuracy: 96.00%\n",
      "Epoch [4/5], Step [400/384], Loss: 0.2048, Accuracy: 93.00%\n",
      "Epoch [5/5], Step [100/384], Loss: 0.1005, Accuracy: 95.00%\n",
      "Epoch [5/5], Step [200/384], Loss: 0.0940, Accuracy: 97.00%\n",
      "Epoch [5/5], Step [300/384], Loss: 0.0880, Accuracy: 96.00%\n",
      "Epoch [5/5], Step [400/384], Loss: 0.0907, Accuracy: 97.00%\n"
     ]
    }
   ],
   "source": [
    "for epoch in range (num_epochs ):\n",
    "    for i, (images, labels) in enumerate(train_l ):\n",
    "        images= images.to(device )  \n",
    "        labels =labels.to(device )  \n",
    "\n",
    "        # Doing the forward pass \n",
    "        outputs= model(images ) \n",
    "        loss =loss_funcn( outputs, labels )\n",
    "        loss_list.append(loss.item())\n",
    "\n",
    "        \n",
    "        optimizer.zero_grad()\n",
    "        loss.backward()\n",
    "        optimizer.step()\n",
    "\n",
    "       \n",
    "        # Computing accuracy: \n",
    "        \n",
    "        total= labels.size(0)\n",
    "        predicted =torch.max(outputs.data, 1)[1]\n",
    "        correct= ( predicted ==labels).sum().item()\n",
    "        accuracy_list.append( correct / total)\n",
    "\n",
    "        if (i + 1) % 100 ==0:\n",
    "            print('Epoch [{}/{}], Step[{}/{}], Loss:{:.4f }, Accuracy: {:.2f}%'.format( epoch + 1, num_epochs,\n",
    "                                                                                         i + 1,  total_step,\n",
    "                                                                                          loss.item(),\n",
    "                                                                                         ( correct / total ) * 100) )\n",
    "            \n",
    "       "
   ]
  },
  {
   "cell_type": "code",
   "execution_count": 81,
   "id": "48faf6b7",
   "metadata": {},
   "outputs": [
    {
     "name": "stdout",
     "output_type": "stream",
     "text": [
      "Validation Accuracy: 96.99%\n",
      "Validation F1 Score: 0.9722\n",
      "Validation Confusion Matrix:\n",
      "[[1158    0    0    0    1    0    7    0    0    3]\n",
      " [   0 1313   15    3    0    1    0    4    3    0]\n",
      " [   1    2 1105    3    1    5   24    8    4    0]\n",
      " [   1    0   19 1198    0   11    0    5   13    1]\n",
      " [   0    1    1    0 1193    0    0    3    3    6]\n",
      " [   1    0   26   49    0  979    8   11    2    1]\n",
      " [   5    3    5    1    4    6 1152    0    1    0]\n",
      " [   0    2    2    4    3    2    0 1242    0    5]\n",
      " [   0    3    2    3    1    8    3    2 1182    2]\n",
      " [   5    0    1    5   11    5    0   10   10 1117]]\n"
     ]
    }
   ],
   "source": [
    "# Evaluating the model on the validation set\n",
    "\n",
    "model.eval()\n",
    "valid_labels= []\n",
    "\n",
    "valid_predictions =[]\n",
    "\n",
    "with torch.no_grad():\n",
    "    for images, labels in valid_loader:\n",
    "        \n",
    "        images= images.to(device)\n",
    "        labels =labels.to(device )\n",
    "\n",
    "        outputs = model(images )\n",
    "        predicted=  torch.max( outputs.data, 1 )[1] \n",
    "\n",
    "        valid_labels.extend(labels.cpu().numpy())\n",
    "        valid_predictions.extend(predicted.cpu().numpy())\n",
    "\n",
    "valid_accuracy =( sum([1 for i, j in  zip(valid_labels, valid_predictions) if i ==j]) / len(valid_labels) ) * 100\n",
    "\n",
    "valid_f= f1_score( valid_labels, valid_predictions, average='weighted')\n",
    "\n",
    "valid_confusion_matrix =confusion_matrix(valid_labels, valid_predictions )\n",
    "\n",
    "print('Validation Accuracy: {:.2f}%'.format(valid_accuracy))\n",
    "print('Validation F1 Score: {:.4f}'.format(valid_f1))\n",
    "print('Validation Confusion Matrix:')\n",
    "print(valid_confusion_matrix)"
   ]
  },
  {
   "cell_type": "code",
   "execution_count": 84,
   "id": "f260b878",
   "metadata": {},
   "outputs": [
    {
     "name": "stdout",
     "output_type": "stream",
     "text": [
      "Test Accuracy: 97.19%\n",
      "Test F1 Score: 0.9718\n",
      "Test Precision: 0.9719\n",
      "Test Recall: 0.9719\n",
      "Test Confusion Matrix:\n",
      "[[ 974    0    0    0    0    1    4    0    0    1]\n",
      " [   0 1126    3    0    1    0    1    2    2    0]\n",
      " [   1    0  996    1    0    5   16   10    3    0]\n",
      " [   1    0    5  979    0   15    0    4    6    0]\n",
      " [   0    0    2    0  971    0    0    1    1    7]\n",
      " [   1    0   32   37    0  805    6    8    3    0]\n",
      " [   9    3    4    0    4    3  933    0    2    0]\n",
      " [   1    2    5    1    1    4    0 1011    0    3]\n",
      " [   2    1    1    0    0    3    2    2  961    2]\n",
      " [   4    2    6    3   12    5    0    9    5  963]]\n"
     ]
    }
   ],
   "source": [
    "# Evaluating the model on the testing set\n",
    "\n",
    "\n",
    "model.eval()\n",
    "testing_labels= []\n",
    "testing_predictions =[]\n",
    "\n",
    "with torch.no_grad():\n",
    "    for images, labels in test_loader:\n",
    "        images= images.to(device)\n",
    "        labels =labels.to(device )\n",
    "\n",
    "        outputs = model(images )\n",
    "        predicted=  torch.max( outputs.data, 1 )[1] \n",
    "\n",
    "        testing_labels.extend(labels.cpu().numpy())\n",
    "        testing_predictions.extend(predicted.cpu().numpy())\n",
    "\n",
    "\n",
    "testing_accuracy= (sum([1 for i, j in zip( testing_labels, testing_predictions) if i == j]) / len( testing_labels)) * 100\n",
    "\n",
    "testing_f1 =f1_score(testing_labels, testing_predictions, average  ='weighted' )\n",
    "\n",
    "testing_precision= precision_score (testing_labels, testing_predictions, average ='weighted' )\n",
    "\n",
    "testing_recall =recall_score (testing_labels,testing_predictions, average  ='weighted' )\n",
    "\n",
    "testing_confusion_matrix= confusion_matrix( testing_labels, testing_predictions)\n",
    "\n",
    "print('Test Accuracy: {:.2f}%'.format( testing_accuracy ))\n",
    "print('Test F1 Score: {:.4f}'.format(testing_f1 ) )\n",
    "print('Test Precision: {:.4f}'.format( testing_precision) )\n",
    "print('Test Recall: {:.4f}'.format (testing_recall))\n",
    "print('Test Confusion Matrix:' )\n",
    "print(testing_confusion_matrix )\n"
   ]
  },
  {
   "cell_type": "code",
   "execution_count": 85,
   "id": "d2c00e62",
   "metadata": {},
   "outputs": [],
   "source": [
    "_PATH = \"C:\\\\Users\\\\SWETHA\""
   ]
  },
  {
   "cell_type": "code",
   "execution_count": 86,
   "id": "ea1077cc",
   "metadata": {},
   "outputs": [],
   "source": [
    "# Saving the model\n",
    "torch.save(model.state_dict(), _PATH + '\\\\conv_net_model.ckpt')"
   ]
  },
  {
   "cell_type": "code",
   "execution_count": null,
   "id": "efc9ef92",
   "metadata": {},
   "outputs": [],
   "source": []
  },
  {
   "cell_type": "code",
   "execution_count": null,
   "id": "14fcb7ab",
   "metadata": {},
   "outputs": [],
   "source": []
  }
 ],
 "metadata": {
  "kernelspec": {
   "display_name": "Python 3",
   "language": "python",
   "name": "python3"
  },
  "language_info": {
   "codemirror_mode": {
    "name": "ipython",
    "version": 3
   },
   "file_extension": ".py",
   "mimetype": "text/x-python",
   "name": "python",
   "nbconvert_exporter": "python",
   "pygments_lexer": "ipython3",
   "version": "3.8.8"
  }
 },
 "nbformat": 4,
 "nbformat_minor": 5
}
