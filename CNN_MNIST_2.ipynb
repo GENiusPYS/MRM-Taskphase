{
 "cells": [
  {
   "cell_type": "code",
   "execution_count": 1,
   "id": "67e89bbf",
   "metadata": {},
   "outputs": [],
   "source": [
    "import torch\n",
    "import torchvision\n",
    "from torchvision import transforms\n",
    "from torch.utils.data import DataLoader\n",
    "import torch.nn as nn\n",
    "from sklearn.metrics import f1_score, confusion_matrix, precision_score, recall_score\n",
    "import matplotlib.pyplot as plt"
   ]
  },
  {
   "cell_type": "code",
   "execution_count": 2,
   "id": "98d68afc",
   "metadata": {},
   "outputs": [],
   "source": [
    "# Transformations that are used in the dataset\n",
    "trans = transforms.Compose([\n",
    "    \n",
    "    transforms.ToTensor()])"
   ]
  },
  {
   "cell_type": "code",
   "execution_count": 3,
   "id": "5bd3344a",
   "metadata": {},
   "outputs": [],
   "source": [
    "# Loading the MNIST dataset\n",
    "train_dataset = torchvision.datasets.MNIST(root='./', train= True, transform=trans, download=True)\n",
    "test_dataset = torchvision.datasets.MNIST(root='./', train =False, transform=trans)\n"
   ]
  },
  {
   "cell_type": "code",
   "execution_count": 4,
   "id": "90ccf803",
   "metadata": {},
   "outputs": [],
   "source": [
    "# We are splitting the training set into a training set and a validation set\n",
    "train_size = int(0.8 * len(train_dataset))\n",
    "val_size = len(train_dataset) - train_size\n",
    "train_dataset, val_dataset = torch.utils.data.random_split(train_dataset, [train_size, val_size])"
   ]
  },
  {
   "cell_type": "code",
   "execution_count": 5,
   "id": "859326e3",
   "metadata": {},
   "outputs": [],
   "source": [
    "# Hyperparameters for the model\n",
    "num_epochs = 10\n",
    "batch_size = 100\n",
    "learning_rate = 0.001"
   ]
  },
  {
   "cell_type": "code",
   "execution_count": 6,
   "id": "e74b53e2",
   "metadata": {},
   "outputs": [],
   "source": [
    "# Creating dataloaders for the respective datasets \n",
    "train_loader = DataLoader ( dataset=  train_dataset, batch_size = batch_size, shuffle= True)\n",
    "valid_loader = DataLoader(dataset =val_dataset, batch_size = batch_size,   shuffle =False )\n",
    "test_loader = DataLoader ( dataset = test_dataset, batch_size= batch_size, shuffle = False)\n"
   ]
  },
  {
   "cell_type": "code",
   "execution_count": 7,
   "id": "1256f8f0",
   "metadata": {},
   "outputs": [],
   "source": [
    "device = torch.device('cuda' if torch.cuda.is_available() else 'cpu')\n"
   ]
  },
  {
   "cell_type": "code",
   "execution_count": 8,
   "id": "6d9a2dde",
   "metadata": {},
   "outputs": [],
   "source": [
    "class CNN(nn.Module):\n",
    "    def __init__(self):\n",
    "        super(CNN, self).__init__()\n",
    "        \n",
    "        self.features = nn.Sequential(\n",
    "            nn.Conv2d(1, 32, kernel_size=5, stride=1, padding=2),\n",
    "            nn.ReLU(),\n",
    "            nn.MaxPool2d(kernel_size=2, stride=2),\n",
    "            nn.Conv2d(32, 64, kernel_size=5, stride=1, padding=2),\n",
    "            nn.ReLU(),\n",
    "            nn.MaxPool2d(kernel_size=2, stride=2)\n",
    "        )\n",
    "        \n",
    "        self.classifier = nn.Sequential(\n",
    "            nn.Dropout(),\n",
    "            nn.Linear(7 * 7 * 64, 1000),\n",
    "            nn.Linear(1000, 10)\n",
    "        )\n",
    "\n",
    "    def forward(self, x):\n",
    "        out = self.features(x)\n",
    "        out = torch.flatten(out, 1) \n",
    "        out = self.classifier(out)\n",
    "        return out\n",
    "\n",
    "model = CNN().to(device)\n"
   ]
  },
  {
   "cell_type": "code",
   "execution_count": 9,
   "id": "8365244f",
   "metadata": {},
   "outputs": [],
   "source": [
    "loss_funcn = nn.CrossEntropyLoss()\n",
    "optimizer = torch.optim.Adam(model.parameters(), lr=learning_rate)"
   ]
  },
  {
   "cell_type": "code",
   "execution_count": 10,
   "id": "41d68cea",
   "metadata": {},
   "outputs": [
    {
     "name": "stdout",
     "output_type": "stream",
     "text": [
      "Epoch [1/10], Loss: 0.0642, Accuracy: 94.68%\n",
      "Epoch [2/10], Loss: 0.3518, Accuracy: 96.29%\n",
      "Epoch [3/10], Loss: 0.1144, Accuracy: 96.97%\n",
      "Epoch [4/10], Loss: 0.0049, Accuracy: 97.39%\n",
      "Epoch [5/10], Loss: 0.0096, Accuracy: 97.66%\n",
      "Epoch [6/10], Loss: 0.0189, Accuracy: 97.86%\n",
      "Epoch [7/10], Loss: 0.0918, Accuracy: 98.02%\n",
      "Epoch [8/10], Loss: 0.0392, Accuracy: 98.14%\n",
      "Epoch [9/10], Loss: 0.0290, Accuracy: 98.25%\n",
      "Epoch [10/10], Loss: 0.0351, Accuracy: 98.34%\n",
      "Accuracy on the whole dataset: 98.34%\n"
     ]
    }
   ],
   "source": [
    "total_step = len(train_loader)\n",
    "loss_list = []\n",
    "total = 0  \n",
    "correct = 0\n",
    "for epoch in range(num_epochs):\n",
    "    for i, (images, labels) in enumerate(train_loader):\n",
    "        images = images.to(device)\n",
    "        labels = labels.to(device)\n",
    "\n",
    "        # Doing the forward pass\n",
    "        outputs = model(images)\n",
    "        loss = loss_funcn(outputs, labels)\n",
    "        loss_list.append(loss.item())\n",
    "        \n",
    "        # back propagation\n",
    "\n",
    "        optimizer.zero_grad()\n",
    "        loss.backward()\n",
    "        optimizer.step()\n",
    "\n",
    "        # Computing accuracy\n",
    "        total += labels.size(0)\n",
    "        predicted = torch.max(outputs.data, 1)[1]\n",
    "        correct += (predicted == labels).sum().item()\n",
    "\n",
    "    # Calculate accuracy for the whole dataset\n",
    "    accuracy = correct / total * 100\n",
    "\n",
    "    print('Epoch [{}/{}], Loss: {:.4f}, Accuracy: {:.2f}%'.format(epoch + 1, num_epochs,\n",
    "                                                                   loss.item(), accuracy))\n",
    "\n",
    "print('Accuracy on the whole dataset: {:.2f}%'.format(accuracy))\n"
   ]
  },
  {
   "cell_type": "code",
   "execution_count": 11,
   "id": "f260b878",
   "metadata": {},
   "outputs": [
    {
     "name": "stdout",
     "output_type": "stream",
     "text": [
      "Test Accuracy: 99.04%\n",
      "[[ 979    0    0    0    0    0    0    1    0    0]\n",
      " [   0 1128    1    2    0    0    0    2    1    1]\n",
      " [   1    0 1025    0    0    0    0    6    0    0]\n",
      " [   0    0    0 1007    0    3    0    0    0    0]\n",
      " [   0    1    0    0  960    0    1    1    4   15]\n",
      " [   1    0    0    2    0  887    1    0    0    1]\n",
      " [  11    2    0    1    2    3  937    0    2    0]\n",
      " [   0    2    1    0    0    0    0 1024    1    0]\n",
      " [   4    0    2    1    0    2    0    1  961    3]\n",
      " [   1    0    1    0    2    3    0    4    2  996]]\n"
     ]
    }
   ],
   "source": [
    "# Evaluating the model on the testing set\n",
    "\n",
    "\n",
    "model.eval()\n",
    "testing_labels= []\n",
    "testing_predictions =[]\n",
    "\n",
    "with torch.no_grad():\n",
    "    for images, labels in test_loader:\n",
    "        images= images.to(device)\n",
    "        labels =labels.to(device )\n",
    "\n",
    "        outputs = model(images )\n",
    "        predicted=  torch.max( outputs.data, 1 )[1] \n",
    "\n",
    "        testing_labels.extend(labels.cpu().numpy())\n",
    "        testing_predictions.extend(predicted.cpu().numpy())\n",
    "\n",
    "\n",
    "testing_accuracy= (sum([1 for i, j in zip( testing_labels, testing_predictions) if i == j]) / len( testing_labels)) * 100\n",
    "\n",
    "testing_confusion_matrix= confusion_matrix( testing_labels, testing_predictions)\n",
    "\n",
    "print('Test Accuracy: {:.2f}%'.format( testing_accuracy ))\n",
    "print(testing_confusion_matrix )\n"
   ]
  },
  {
   "cell_type": "code",
   "execution_count": 12,
   "id": "d2c00e62",
   "metadata": {},
   "outputs": [],
   "source": [
    "_PATH = \"C:\\\\Users\\\\SWETHA\""
   ]
  },
  {
   "cell_type": "code",
   "execution_count": 13,
   "id": "ea1077cc",
   "metadata": {},
   "outputs": [],
   "source": [
    "# Saving the model\n",
    "torch.save(model.state_dict(), _PATH + '\\\\conv_net_model.ckpt')"
   ]
  },
  {
   "cell_type": "code",
   "execution_count": null,
   "id": "efc9ef92",
   "metadata": {},
   "outputs": [],
   "source": []
  },
  {
   "cell_type": "code",
   "execution_count": null,
   "id": "14fcb7ab",
   "metadata": {},
   "outputs": [],
   "source": []
  },
  {
   "cell_type": "code",
   "execution_count": null,
   "id": "9251aab9",
   "metadata": {},
   "outputs": [],
   "source": []
  }
 ],
 "metadata": {
  "kernelspec": {
   "display_name": "Python 3",
   "language": "python",
   "name": "python3"
  },
  "language_info": {
   "codemirror_mode": {
    "name": "ipython",
    "version": 3
   },
   "file_extension": ".py",
   "mimetype": "text/x-python",
   "name": "python",
   "nbconvert_exporter": "python",
   "pygments_lexer": "ipython3",
   "version": "3.8.8"
  }
 },
 "nbformat": 4,
 "nbformat_minor": 5
}
