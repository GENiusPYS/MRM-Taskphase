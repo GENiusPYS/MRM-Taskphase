{
 "cells": [
  {
   "cell_type": "code",
   "execution_count": 16,
   "id": "67e89bbf",
   "metadata": {},
   "outputs": [],
   "source": [
    "import torch\n",
    "import torchvision\n",
    "from torchvision import transforms\n",
    "from torch.utils.data import DataLoader\n",
    "import torch.nn as nn\n",
    "from sklearn.metrics import f1_score, confusion_matrix, precision_score, recall_score\n",
    "import matplotlib.pyplot as plt"
   ]
  },
  {
   "cell_type": "code",
   "execution_count": 17,
   "id": "98d68afc",
   "metadata": {},
   "outputs": [],
   "source": [
    "# Transformations that are used in the dataset\n",
    "trans = transforms.Compose([\n",
    "    transforms.RandomRotation(10),\n",
    "    transforms.RandomHorizontalFlip(),\n",
    "    transforms.ToTensor(),\n",
    "    transforms.Normalize((0.1307,), (0.3081,))\n",
    "])"
   ]
  },
  {
   "cell_type": "code",
   "execution_count": 18,
   "id": "5bd3344a",
   "metadata": {},
   "outputs": [],
   "source": [
    "# Loading the MNIST dataset\n",
    "train_dataset = torchvision.datasets.MNIST(root='./', train= True, transform=trans, download=True)\n",
    "test_dataset = torchvision.datasets.MNIST(root='./', train =False, transform=trans)\n"
   ]
  },
  {
   "cell_type": "code",
   "execution_count": 19,
   "id": "90ccf803",
   "metadata": {},
   "outputs": [],
   "source": [
    "# We are splitting the training set into a training set and a validation set\n",
    "train_size = int(0.8 * len(train_dataset))\n",
    "val_size = len(train_dataset) - train_size\n",
    "train_dataset, val_dataset = torch.utils.data.random_split(train_dataset, [train_size, val_size])"
   ]
  },
  {
   "cell_type": "code",
   "execution_count": 20,
   "id": "859326e3",
   "metadata": {},
   "outputs": [],
   "source": [
    "# Hyperparameters for the model\n",
    "num_epochs = 10\n",
    "batch_size = 100\n",
    "learning_rate = 0.001"
   ]
  },
  {
   "cell_type": "code",
   "execution_count": 22,
   "id": "e74b53e2",
   "metadata": {},
   "outputs": [],
   "source": [
    "# Creating dataloaders for the respective datasets \n",
    "train_loader = DataLoader ( dataset=  train_dataset, batch_size = batch_size, shuffle= True)\n",
    "valid_loader = DataLoader(dataset =val_dataset, batch_size = batch_size,   shuffle =False )\n",
    "test_loader = DataLoader ( dataset = test_dataset, batch_size= batch_size, shuffle = False)\n"
   ]
  },
  {
   "cell_type": "code",
   "execution_count": 23,
   "id": "1256f8f0",
   "metadata": {},
   "outputs": [],
   "source": [
    "device = torch.device('cuda' if torch.cuda.is_available() else 'cpu')\n"
   ]
  },
  {
   "cell_type": "code",
   "execution_count": 24,
   "id": "6d9a2dde",
   "metadata": {},
   "outputs": [],
   "source": [
    "class CNN(nn.Module):\n",
    "    def __init__(self):\n",
    "        super(CNN, self).__init__()\n",
    "        \n",
    "        self.features = nn.Sequential(\n",
    "            nn.Conv2d(1, 32, kernel_size=5, stride=1, padding=2),\n",
    "            nn.ReLU(),\n",
    "            nn.MaxPool2d(kernel_size=2, stride=2),\n",
    "            nn.Conv2d(32, 64, kernel_size=5, stride=1, padding=2),\n",
    "            nn.ReLU(),\n",
    "            nn.MaxPool2d(kernel_size=2, stride=2)\n",
    "        )\n",
    "        \n",
    "        self.classifier = nn.Sequential(\n",
    "            nn.Dropout(),\n",
    "            nn.Linear(7 * 7 * 64, 1000),\n",
    "            nn.Linear(1000, 10)\n",
    "        )\n",
    "\n",
    "    def forward(self, x):\n",
    "        out = self.features(x)\n",
    "        out = torch.flatten(out, 1) \n",
    "        out = self.classifier(out)\n",
    "        return out\n",
    "\n",
    "model = CNN().to(device)\n"
   ]
  },
  {
   "cell_type": "code",
   "execution_count": 25,
   "id": "8365244f",
   "metadata": {},
   "outputs": [],
   "source": [
    "loss_funcn = nn.CrossEntropyLoss()\n",
    "optimizer = torch.optim.Adam(model.parameters(), lr=learning_rate)"
   ]
  },
  {
   "cell_type": "code",
   "execution_count": 26,
   "id": "41d68cea",
   "metadata": {},
   "outputs": [
    {
     "name": "stdout",
     "output_type": "stream",
     "text": [
      "Epoch [1/10], Loss: 0.2750, Accuracy: 87.96%\n",
      "Epoch [2/10], Loss: 0.1826, Accuracy: 90.66%\n",
      "Epoch [3/10], Loss: 0.1348, Accuracy: 91.91%\n",
      "Epoch [4/10], Loss: 0.0987, Accuracy: 92.70%\n",
      "Epoch [5/10], Loss: 0.2379, Accuracy: 93.27%\n",
      "Epoch [6/10], Loss: 0.1642, Accuracy: 93.70%\n",
      "Epoch [7/10], Loss: 0.1089, Accuracy: 94.03%\n",
      "Epoch [8/10], Loss: 0.1010, Accuracy: 94.29%\n",
      "Epoch [9/10], Loss: 0.0700, Accuracy: 94.50%\n",
      "Epoch [10/10], Loss: 0.1084, Accuracy: 94.68%\n",
      "Accuracy on the whole dataset: 94.68%\n"
     ]
    }
   ],
   "source": [
    "total_step = len(train_loader)\n",
    "loss_list = []\n",
    "total = 0  \n",
    "correct = 0\n",
    "for epoch in range(num_epochs):\n",
    "    for i, (images, labels) in enumerate(train_loader):\n",
    "        images = images.to(device)\n",
    "        labels = labels.to(device)\n",
    "\n",
    "        # Doing the forward pass\n",
    "        outputs = model(images)\n",
    "        loss = loss_funcn(outputs, labels)\n",
    "        loss_list.append(loss.item())\n",
    "        \n",
    "        # back propagation\n",
    "\n",
    "        optimizer.zero_grad()\n",
    "        loss.backward()\n",
    "        optimizer.step()\n",
    "\n",
    "        # Computing accuracy\n",
    "        total += labels.size(0)\n",
    "        predicted = torch.max(outputs.data, 1)[1]\n",
    "        correct += (predicted == labels).sum().item()\n",
    "\n",
    "    # Calculate accuracy for the whole dataset\n",
    "    accuracy = correct / total * 100\n",
    "\n",
    "    print('Epoch [{}/{}], Loss: {:.4f}, Accuracy: {:.2f}%'.format(epoch + 1, num_epochs,\n",
    "                                                                   loss.item(), accuracy))\n",
    "\n",
    "print('Accuracy on the whole dataset: {:.2f}%'.format(accuracy))\n"
   ]
  },
  {
   "cell_type": "code",
   "execution_count": 27,
   "id": "48faf6b7",
   "metadata": {},
   "outputs": [
    {
     "name": "stdout",
     "output_type": "stream",
     "text": [
      "Validation Accuracy: 97.81%\n",
      "Validation F1 Score: 0.9781\n",
      "Validation Confusion Matrix:\n",
      "[[1195    0    2    1    0    1    2    1    0    1]\n",
      " [   0 1360    5    0    1    0    0    4    2    0]\n",
      " [   1    6 1109    5    0   15   28    6    5    3]\n",
      " [   2    1    2 1200    0   10    1    2    4    3]\n",
      " [   1    4    2    0 1137    0    0    3    3   13]\n",
      " [   1    3    4    6    0 1032    3   10    3    3]\n",
      " [   7    0    6    0    1    4 1202    0    1    0]\n",
      " [   1    5    0    0    1   10    0 1209    3   11]\n",
      " [   3    0    1    1    0    1    5    0 1107    9]\n",
      " [   3    2    0    1    5    1    0    6    2 1186]]\n"
     ]
    }
   ],
   "source": [
    "# Evaluating the model on the validation set\n",
    "\n",
    "model.eval()\n",
    "valid_labels= []\n",
    "\n",
    "valid_predictions =[]\n",
    "\n",
    "with torch.no_grad():\n",
    "    for images, labels in valid_loader:\n",
    "        \n",
    "        images= images.to(device)\n",
    "        labels =labels.to(device )\n",
    "\n",
    "        outputs = model(images )\n",
    "        predicted=  torch.max( outputs.data, 1 )[1] \n",
    "\n",
    "        valid_labels.extend(labels.cpu().numpy())\n",
    "        valid_predictions.extend(predicted.cpu().numpy())\n",
    "\n",
    "valid_accuracy =( sum([1 for i, j in  zip(valid_labels, valid_predictions) if i ==j]) / len(valid_labels) ) * 100\n",
    "\n",
    "valid_f= f1_score( valid_labels, valid_predictions, average='weighted')\n",
    "\n",
    "valid_confusion_matrix =confusion_matrix(valid_labels, valid_predictions )\n",
    "\n",
    "print('Validation Accuracy: {:.2f}%'.format(valid_accuracy))\n",
    "print('Validation F1 Score: {:.4f}'.format(valid_f))\n",
    "print('Validation Confusion Matrix:')\n",
    "print(valid_confusion_matrix)"
   ]
  },
  {
   "cell_type": "code",
   "execution_count": 28,
   "id": "f260b878",
   "metadata": {},
   "outputs": [
    {
     "name": "stdout",
     "output_type": "stream",
     "text": [
      "Test Accuracy: 98.01%\n",
      "Test F1 Score: 0.9801\n",
      "Test Precision: 0.9802\n",
      "Test Recall: 0.9801\n",
      "Test Confusion Matrix:\n",
      "[[ 975    1    0    0    0    1    2    1    0    0]\n",
      " [   0 1130    3    1    0    0    1    0    0    0]\n",
      " [   0    1  998    0    0    9   13    7    3    1]\n",
      " [   4    0    0  977    0   21    0    3    3    2]\n",
      " [   0    1    0    0  965    0    1    0    2   13]\n",
      " [   2    2    6    9    0  866    2    3    1    1]\n",
      " [  10    4    4    0    1    4  932    0    2    1]\n",
      " [   1    6    3    1    2    4    0 1008    2    1]\n",
      " [   4    1    1    1    1    1    0    0  960    5]\n",
      " [   4    3    1    0    4    2    0    4    1  990]]\n"
     ]
    }
   ],
   "source": [
    "# Evaluating the model on the testing set\n",
    "\n",
    "\n",
    "model.eval()\n",
    "testing_labels= []\n",
    "testing_predictions =[]\n",
    "\n",
    "with torch.no_grad():\n",
    "    for images, labels in test_loader:\n",
    "        images= images.to(device)\n",
    "        labels =labels.to(device )\n",
    "\n",
    "        outputs = model(images )\n",
    "        predicted=  torch.max( outputs.data, 1 )[1] \n",
    "\n",
    "        testing_labels.extend(labels.cpu().numpy())\n",
    "        testing_predictions.extend(predicted.cpu().numpy())\n",
    "\n",
    "\n",
    "testing_accuracy= (sum([1 for i, j in zip( testing_labels, testing_predictions) if i == j]) / len( testing_labels)) * 100\n",
    "\n",
    "testing_f1 =f1_score(testing_labels, testing_predictions, average  ='weighted' )\n",
    "\n",
    "testing_precision= precision_score (testing_labels, testing_predictions, average ='weighted' )\n",
    "\n",
    "testing_recall =recall_score (testing_labels,testing_predictions, average  ='weighted' )\n",
    "\n",
    "testing_confusion_matrix= confusion_matrix( testing_labels, testing_predictions)\n",
    "\n",
    "print('Test Accuracy: {:.2f}%'.format( testing_accuracy ))\n",
    "print('Test F1 Score: {:.4f}'.format(testing_f1 ) )\n",
    "print('Test Precision: {:.4f}'.format( testing_precision) )\n",
    "print('Test Recall: {:.4f}'.format (testing_recall))\n",
    "print('Test Confusion Matrix:' )\n",
    "print(testing_confusion_matrix )\n"
   ]
  },
  {
   "cell_type": "code",
   "execution_count": 29,
   "id": "d2c00e62",
   "metadata": {},
   "outputs": [],
   "source": [
    "_PATH = \"C:\\\\Users\\\\SWETHA\""
   ]
  },
  {
   "cell_type": "code",
   "execution_count": 30,
   "id": "ea1077cc",
   "metadata": {},
   "outputs": [],
   "source": [
    "# Saving the model\n",
    "torch.save(model.state_dict(), _PATH + '\\\\conv_net_model.ckpt')"
   ]
  },
  {
   "cell_type": "code",
   "execution_count": null,
   "id": "efc9ef92",
   "metadata": {},
   "outputs": [],
   "source": []
  },
  {
   "cell_type": "code",
   "execution_count": null,
   "id": "14fcb7ab",
   "metadata": {},
   "outputs": [],
   "source": []
  },
  {
   "cell_type": "code",
   "execution_count": null,
   "id": "9251aab9",
   "metadata": {},
   "outputs": [],
   "source": []
  }
 ],
 "metadata": {
  "kernelspec": {
   "display_name": "Python 3",
   "language": "python",
   "name": "python3"
  },
  "language_info": {
   "codemirror_mode": {
    "name": "ipython",
    "version": 3
   },
   "file_extension": ".py",
   "mimetype": "text/x-python",
   "name": "python",
   "nbconvert_exporter": "python",
   "pygments_lexer": "ipython3",
   "version": "3.8.8"
  }
 },
 "nbformat": 4,
 "nbformat_minor": 5
}
